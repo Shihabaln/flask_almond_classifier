{
 "cells": [
  {
   "cell_type": "code",
   "execution_count": 1,
   "id": "7d9432e1",
   "metadata": {},
   "outputs": [],
   "source": [
    "import sqlite3\n",
    "from sqlite3 import Error\n",
    "import numpy as np\n",
    "import io\n",
    "from io import BytesIO\n",
    "from PIL import Image\n",
    "from skimage import transform"
   ]
  },
  {
   "cell_type": "code",
   "execution_count": 2,
   "id": "d53be7f4",
   "metadata": {},
   "outputs": [],
   "source": [
    "def create_connection(db_file):\n",
    "    \"\"\" create a database connection to the SQLite database\n",
    "        specified by the db_file\n",
    "    :param db_file: database file\n",
    "    :return: Connection object or None\n",
    "    \"\"\"\n",
    "    conn = None\n",
    "    try:\n",
    "        conn = sqlite3.connect(db_file)\n",
    "    except Error as e:\n",
    "        print(e)\n",
    "\n",
    "    return conn"
   ]
  },
  {
   "cell_type": "code",
   "execution_count": 9,
   "id": "5db1215c",
   "metadata": {},
   "outputs": [],
   "source": [
    "def select_all_tasks(conn,name):\n",
    "    \"\"\"\n",
    "    Query all rows in the tasks table\n",
    "    :param conn: the Connection object\n",
    "    :return:\n",
    "    \"\"\"\n",
    "    cur = conn.cursor()\n",
    "    cur.execute(\"SELECT * FROM images WHERE name=?\", (name,))\n",
    "    rows = cur.fetchall()\n",
    "    \n",
    "    return rows[1]\n",
    "\n",
    "#     for row in rows:\n",
    "#         print(\"Id = \", row[0], \"Name = \", row[1])\n",
    "#         name = row[1]\n",
    "#         photo = row[2]\n",
    "#         photoPath = \"C:/Users/shihab/Desktop/flask_almond_classifier/static/uploads//\" + name\n",
    "#         return row[1]\n",
    "\n",
    "    \n",
    "\n",
    "#         photo_img = Image.open(photoPath)\n",
    "#         display(photo_img)\n",
    "#     cur.close\n",
    "\n",
    "#         \n",
    "        \n",
    "\n",
    "        "
   ]
  },
  {
   "cell_type": "code",
   "execution_count": 10,
   "id": "d4ab7a85",
   "metadata": {},
   "outputs": [],
   "source": [
    "def load(filename):\n",
    "    photoPath = \"C:/Users/shihab/Desktop/flask_almond_classifier/static/uploads//\" + filename\n",
    "    np_image = Image.open(photoPath)\n",
    "    np_image = np.array(np_image).astype('float32')/255\n",
    "    np_image = transform.resize(np_image, (150, 150, 3))\n",
    "    np_image = np.expand_dims(np_image, axis=0)\n",
    "    return np_image"
   ]
  },
  {
   "cell_type": "code",
   "execution_count": 11,
   "id": "0801b307",
   "metadata": {},
   "outputs": [
    {
     "name": "stdout",
     "output_type": "stream",
     "text": [
      "Query all tasks\n"
     ]
    },
    {
     "ename": "IndexError",
     "evalue": "list index out of range",
     "output_type": "error",
     "traceback": [
      "\u001b[1;31m---------------------------------------------------------------------------\u001b[0m",
      "\u001b[1;31mIndexError\u001b[0m                                Traceback (most recent call last)",
      "Input \u001b[1;32mIn [11]\u001b[0m, in \u001b[0;36m<cell line: 4>\u001b[1;34m()\u001b[0m\n\u001b[0;32m      4\u001b[0m \u001b[38;5;28;01mwith\u001b[39;00m conn:\n\u001b[0;32m      5\u001b[0m     \u001b[38;5;28mprint\u001b[39m(\u001b[38;5;124m\"\u001b[39m\u001b[38;5;124mQuery all tasks\u001b[39m\u001b[38;5;124m\"\u001b[39m)\n\u001b[1;32m----> 6\u001b[0m     \u001b[38;5;28mprint\u001b[39m(\u001b[43mselect_all_tasks\u001b[49m\u001b[43m(\u001b[49m\u001b[43mconn\u001b[49m\u001b[43m,\u001b[49m\u001b[38;5;241;43m1\u001b[39;49m\u001b[43m)\u001b[49m)\n",
      "Input \u001b[1;32mIn [9]\u001b[0m, in \u001b[0;36mselect_all_tasks\u001b[1;34m(conn, name)\u001b[0m\n\u001b[0;32m      8\u001b[0m cur\u001b[38;5;241m.\u001b[39mexecute(\u001b[38;5;124m\"\u001b[39m\u001b[38;5;124mSELECT * FROM images WHERE name=?\u001b[39m\u001b[38;5;124m\"\u001b[39m, (name,))\n\u001b[0;32m      9\u001b[0m rows \u001b[38;5;241m=\u001b[39m cur\u001b[38;5;241m.\u001b[39mfetchall()\n\u001b[1;32m---> 10\u001b[0m \u001b[38;5;28;01mreturn\u001b[39;00m \u001b[43mrows\u001b[49m\u001b[43m[\u001b[49m\u001b[38;5;241;43m1\u001b[39;49m\u001b[43m]\u001b[49m\n",
      "\u001b[1;31mIndexError\u001b[0m: list index out of range"
     ]
    }
   ],
   "source": [
    "db = r'C:\\Users\\shihab\\Desktop\\flask_almond_classifier\\images.db'\n",
    "conn = create_connection(db)\n",
    "\n",
    "with conn:\n",
    "    print(\"Query all tasks\")\n",
    "    print(select_all_tasks(conn,1))\n",
    "    "
   ]
  },
  {
   "cell_type": "code",
   "execution_count": null,
   "id": "dd2683aa",
   "metadata": {},
   "outputs": [],
   "source": []
  },
  {
   "cell_type": "code",
   "execution_count": null,
   "id": "cca51f26",
   "metadata": {},
   "outputs": [],
   "source": [
    "class Image(db.Model):\n",
    "    __tablename__ = 'images'\n",
    "\n",
    "    id = db.Column(db.Integer, primary_key=True)\n",
    "    name = db.Column(db.String())\n",
    "    img_filename = db.Column(db.String())\n",
    "    img_data = db.Column(db.LargeBinary)\n",
    "\n",
    "    def __repr__(self):\n",
    "        return '<image id={},name={}>'.format(self.id, self.name)\n",
    "\n",
    "\n",
    "def get_image(the_id):\n",
    "    #return Image.query.filter(Image.id == the_id).first()\n",
    "    return Image.query.get_or_404(the_id)\n"
   ]
  },
  {
   "cell_type": "code",
   "execution_count": null,
   "id": "206527bb",
   "metadata": {},
   "outputs": [],
   "source": [
    "import sqlite3\n",
    "\n",
    "def writeTofile(data, filename):\n",
    "    # Convert binary data to proper format and write it on Hard Disk\n",
    "    with open(filename, 'wb') as file:\n",
    "        file.write(data)\n",
    "    print(\"Stored blob data into: \", filename, \"\\n\")\n",
    "\n",
    "def readBlobData(id):\n",
    "    try:\n",
    "        sqliteConnection = sqlite3.connect('images.db')\n",
    "        cursor = sqliteConnection.cursor()\n",
    "        print(\"Connected to SQLite\")\n",
    "\n",
    "        sql_fetch_blob_query = \"\"\"SELECT * from images where name = ?\"\"\"\n",
    "        cursor.execute(sql_fetch_blob_query, (id,))\n",
    "        record = cursor.fetchall()\n",
    "        for row in record:\n",
    "            print(\"Id = \", row[0], \"Name = \", row[1])\n",
    "            name = row[1]\n",
    "            photo = row[2]\n",
    "\n",
    "            print(\"Storing employee image and resume on disk \\n\")\n",
    "            photoPath = \"C:/Users/shihab/Desktop/flask_almond_classifier/static/uploads//\" + name + \".jpg\"\n",
    "            writeTofile(photo, photoPath)\n",
    "\n",
    "        cursor.close()\n",
    "\n",
    "    except sqlite3.Error as error:\n",
    "        print(\"Failed to read blob data from sqlite table\", error)\n",
    "    finally:\n",
    "        if sqliteConnection:\n",
    "            sqliteConnection.close()\n",
    "            print(\"sqlite connection is closed\")"
   ]
  },
  {
   "cell_type": "code",
   "execution_count": null,
   "id": "f4501330",
   "metadata": {},
   "outputs": [],
   "source": [
    "readBlobData(1)"
   ]
  },
  {
   "cell_type": "code",
   "execution_count": null,
   "id": "6d533301",
   "metadata": {},
   "outputs": [],
   "source": [
    "image_data = Image.query.filter_by(name=filename).first_or_404()"
   ]
  },
  {
   "cell_type": "code",
   "execution_count": null,
   "id": "3b0c3328",
   "metadata": {},
   "outputs": [],
   "source": [
    "almond_google.jpg"
   ]
  }
 ],
 "metadata": {
  "kernelspec": {
   "display_name": "Python [conda env:root] *",
   "language": "python",
   "name": "conda-root-py"
  },
  "language_info": {
   "codemirror_mode": {
    "name": "ipython",
    "version": 3
   },
   "file_extension": ".py",
   "mimetype": "text/x-python",
   "name": "python",
   "nbconvert_exporter": "python",
   "pygments_lexer": "ipython3",
   "version": "3.8.12"
  }
 },
 "nbformat": 4,
 "nbformat_minor": 5
}
